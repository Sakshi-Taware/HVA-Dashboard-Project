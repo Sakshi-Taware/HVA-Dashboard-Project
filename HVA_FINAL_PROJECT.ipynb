{
 "cells": [
  {
   "cell_type": "markdown",
   "metadata": {},
   "source": [
    "# PYTHON PROJECT ON IRIS DATASET\n",
    "\n",
    "## SAKSHI SUNIL  TAWARE \n",
    "\n"
   ]
  },
  {
   "cell_type": "code",
   "execution_count": 1,
   "metadata": {
    "id": "TIdJOvYtvZnH"
   },
   "outputs": [],
   "source": [
    "import pandas as pd\n",
    "\n",
    "# Read CSV files\n",
    "df_csv1 = pd.read_csv('Iris.csv')\n",
    "\n",
    "# Read JSON files\n",
    "df_json1 = pd.read_json('iris.json')\n",
    "\n",
    "#rename columns to match\n",
    "df_json1.rename(columns={'sepalLength': 'SepalLengthCm', 'sepalWidth': 'SepalWidthCm','petalLength': 'PetalLengthCm','petalWidth': 'PetalWidthCm','species': 'Species'}, inplace=True)\n",
    "\n",
    "# Rename values in the 'Species' column\n",
    "df_csv1['Species'] = df_csv1['Species'].replace({\n",
    "    'Iris-setosa': 'setosa',\n",
    "    'Iris-virginica': 'virginica',\n",
    "    'Iris-versicolor': 'versicolor'\n",
    "})\n"
   ]
  },
  {
   "cell_type": "code",
   "execution_count": 2,
   "metadata": {
    "id": "dz1tH_U_wb_H"
   },
   "outputs": [
    {
     "name": "stdout",
     "output_type": "stream",
     "text": [
      "      Id  SepalLengthCm  SepalWidthCm  PetalLengthCm  PetalWidthCm    Species\n",
      "0      1            5.1           3.5            1.4           0.2     setosa\n",
      "1      2            4.9           3.0            1.4           0.2     setosa\n",
      "2      3            4.7           3.2            1.3           0.2     setosa\n",
      "3      4            4.6           3.1            1.5           0.2     setosa\n",
      "4      5            5.0           3.6            1.4           0.2     setosa\n",
      "..   ...            ...           ...            ...           ...        ...\n",
      "145  146            6.7           3.0            5.2           2.3  virginica\n",
      "146  147            6.3           2.5            5.0           1.9  virginica\n",
      "147  148            6.5           3.0            5.2           2.0  virginica\n",
      "148  149            6.2           3.4            5.4           2.3  virginica\n",
      "149  150            5.9           3.0            5.1           1.8  virginica\n",
      "\n",
      "[150 rows x 6 columns]\n"
     ]
    }
   ],
   "source": [
    "print(df_csv1)"
   ]
  },
  {
   "cell_type": "code",
   "execution_count": 3,
   "metadata": {
    "id": "5syslqpJwlw-"
   },
   "outputs": [
    {
     "name": "stdout",
     "output_type": "stream",
     "text": [
      "     SepalLengthCm  SepalWidthCm  PetalLengthCm  PetalWidthCm    Species\n",
      "0              5.1           3.5            1.4           0.2     setosa\n",
      "1              4.9           3.0            1.4           0.2     setosa\n",
      "2              4.7           3.2            1.3           0.2     setosa\n",
      "3              4.6           3.1            1.5           0.2     setosa\n",
      "4              5.0           3.6            1.4           0.2     setosa\n",
      "..             ...           ...            ...           ...        ...\n",
      "145            6.7           3.0            5.2           2.3  virginica\n",
      "146            6.3           2.5            5.0           1.9  virginica\n",
      "147            6.5           3.0            5.2           2.0  virginica\n",
      "148            6.2           3.4            5.4           2.3  virginica\n",
      "149            5.9           3.0            5.1           1.8  virginica\n",
      "\n",
      "[150 rows x 5 columns]\n"
     ]
    }
   ],
   "source": [
    "print(df_json1)"
   ]
  },
  {
   "cell_type": "code",
   "execution_count": 4,
   "metadata": {
    "id": "1l_rb8CxyTot"
   },
   "outputs": [
    {
     "name": "stdout",
     "output_type": "stream",
     "text": [
      "     SepalLengthCm  SepalWidthCm  PetalLengthCm  PetalWidthCm    Species\n",
      "0              5.1           3.5            1.4           0.2     setosa\n",
      "1              4.9           3.0            1.4           0.2     setosa\n",
      "2              4.7           3.2            1.3           0.2     setosa\n",
      "3              4.6           3.1            1.5           0.2     setosa\n",
      "4              5.0           3.6            1.4           0.2     setosa\n",
      "..             ...           ...            ...           ...        ...\n",
      "295            6.7           3.0            5.2           2.3  virginica\n",
      "296            6.3           2.5            5.0           1.9  virginica\n",
      "297            6.5           3.0            5.2           2.0  virginica\n",
      "298            6.2           3.4            5.4           2.3  virginica\n",
      "299            5.9           3.0            5.1           1.8  virginica\n",
      "\n",
      "[300 rows x 5 columns]\n"
     ]
    }
   ],
   "source": [
    "selected_columns = [\"SepalLengthCm\" ,'SepalWidthCm','PetalLengthCm','PetalWidthCm','Species' ]  # Replace with the actual column names you want to select\n",
    "\n",
    "df_csv_selected = df_csv1[selected_columns]\n",
    "df_json_selected = df_json1[selected_columns]\n",
    "\n",
    "# Concatenate datasets\n",
    "master_df = pd.concat([df_csv_selected, df_json_selected], ignore_index=True)\n",
    "\n",
    "# Display all records in a single format\n",
    "print(master_df)"
   ]
  },
  {
   "cell_type": "code",
   "execution_count": 5,
   "metadata": {
    "id": "GmiWHibswDWi"
   },
   "outputs": [
    {
     "name": "stdout",
     "output_type": "stream",
     "text": [
      "     SepalLengthCm  SepalWidthCm  PetalLengthCm  PetalWidthCm    Species\n",
      "0              5.1           3.5            1.4           0.2     setosa\n",
      "1              4.9           3.0            1.4           0.2     setosa\n",
      "2              4.7           3.2            1.3           0.2     setosa\n",
      "3              4.6           3.1            1.5           0.2     setosa\n",
      "4              5.0           3.6            1.4           0.2     setosa\n",
      "..             ...           ...            ...           ...        ...\n",
      "295            6.7           3.0            5.2           2.3  virginica\n",
      "296            6.3           2.5            5.0           1.9  virginica\n",
      "297            6.5           3.0            5.2           2.0  virginica\n",
      "298            6.2           3.4            5.4           2.3  virginica\n",
      "299            5.9           3.0            5.1           1.8  virginica\n",
      "\n",
      "[300 rows x 5 columns]\n"
     ]
    }
   ],
   "source": [
    "print(master_df)\n"
   ]
  },
  {
   "cell_type": "code",
   "execution_count": 6,
   "metadata": {
    "id": "oI96FGpt9m-I"
   },
   "outputs": [
    {
     "name": "stdout",
     "output_type": "stream",
     "text": [
      "Missing values:\n",
      " SepalLengthCm    0\n",
      "SepalWidthCm     0\n",
      "PetalLengthCm    0\n",
      "PetalWidthCm     0\n",
      "Species          0\n",
      "dtype: int64\n"
     ]
    }
   ],
   "source": [
    "#cleaningdata\n",
    "# 1. Check for missing values\n",
    "missing_values = master_df.isnull().sum()\n",
    "print(\"Missing values:\\n\", missing_values)\n",
    "\n",
    "# 2. Remove duplicates\n",
    "master_df.drop_duplicates(inplace=True)"
   ]
  },
  {
   "cell_type": "code",
   "execution_count": 7,
   "metadata": {
    "id": "QD04VW-Mv93m"
   },
   "outputs": [
    {
     "name": "stdout",
     "output_type": "stream",
     "text": [
      "162\n"
     ]
    }
   ],
   "source": [
    "# Perform data cleaning operations\n",
    "master_df.drop_duplicates(inplace=True)\n",
    "master_df.dropna(inplace=True)\n",
    "\n",
    "# Framing 10 questions\n",
    "# 1. What is the total number of records in the dataset?\n",
    "total_records = len(master_df)\n",
    "print(total_records)\n",
    "\n"
   ]
  },
  {
   "cell_type": "code",
   "execution_count": 8,
   "metadata": {
    "id": "TB26f6OR0m4j"
   },
   "outputs": [
    {
     "name": "stdout",
     "output_type": "stream",
     "text": [
      "SepalLengthCm    float64\n",
      "SepalWidthCm     float64\n",
      "PetalLengthCm    float64\n",
      "PetalWidthCm     float64\n",
      "Species           object\n",
      "dtype: object\n"
     ]
    }
   ],
   "source": [
    "# 2. What are the column names and data types?\n",
    "column_info = master_df.dtypes\n",
    "print(column_info)"
   ]
  },
  {
   "cell_type": "code",
   "execution_count": 9,
   "metadata": {
    "id": "YWWPUYRW0nV5"
   },
   "outputs": [
    {
     "name": "stdout",
     "output_type": "stream",
     "text": [
      "3\n"
     ]
    }
   ],
   "source": [
    "\n",
    "# 3. How many unique categories are there in a specific column?\n",
    "unique_categories = master_df['Species'].nunique()\n",
    "print(unique_categories)"
   ]
  },
  {
   "cell_type": "code",
   "execution_count": 10,
   "metadata": {
    "id": "f4ttr2iK0nXY"
   },
   "outputs": [
    {
     "name": "stdout",
     "output_type": "stream",
     "text": [
      "count    162.000000\n",
      "mean       3.079012\n",
      "std        0.443648\n",
      "min        2.000000\n",
      "25%        2.800000\n",
      "50%        3.000000\n",
      "75%        3.400000\n",
      "max        4.400000\n",
      "Name: SepalWidthCm, dtype: float64\n"
     ]
    }
   ],
   "source": [
    "\n",
    "# 4. What is the distribution of a numerical column?\n",
    "numerical_distribution = master_df['SepalWidthCm'].describe()\n",
    "print(numerical_distribution)"
   ]
  },
  {
   "cell_type": "code",
   "execution_count": 11,
   "metadata": {
    "id": "xtII7exy0nap"
   },
   "outputs": [
    {
     "name": "stdout",
     "output_type": "stream",
     "text": [
      "       Species  SepalWidthCm  count\n",
      "0       setosa           2.3      2\n",
      "1       setosa           2.9      1\n",
      "2       setosa           3.0      7\n",
      "3       setosa           3.1      4\n",
      "4       setosa           3.2      5\n",
      "5       setosa           3.3      3\n",
      "6       setosa           3.4     11\n",
      "7       setosa           3.5      9\n",
      "8       setosa           3.6      3\n",
      "9       setosa           3.7      3\n",
      "10      setosa           3.8      6\n",
      "11      setosa           3.9      3\n",
      "12      setosa           4.0      1\n",
      "13      setosa           4.1      1\n",
      "14      setosa           4.2      1\n",
      "15      setosa           4.4      1\n",
      "16  versicolor           2.0      1\n",
      "17  versicolor           2.2      2\n",
      "18  versicolor           2.3      3\n",
      "19  versicolor           2.4      3\n",
      "20  versicolor           2.5      4\n",
      "21  versicolor           2.6      3\n",
      "22  versicolor           2.7      5\n",
      "23  versicolor           2.8      6\n",
      "24  versicolor           2.9      7\n",
      "25  versicolor           3.0      9\n",
      "26  versicolor           3.1      3\n",
      "27  versicolor           3.2      3\n",
      "28  versicolor           3.3      1\n",
      "29  versicolor           3.4      1\n",
      "30   virginica           2.2      1\n",
      "31   virginica           2.5      5\n",
      "32   virginica           2.6      2\n",
      "33   virginica           2.7      3\n",
      "34   virginica           2.8      8\n",
      "35   virginica           2.9      2\n",
      "36   virginica           3.0     12\n",
      "37   virginica           3.1      4\n",
      "38   virginica           3.2      5\n",
      "39   virginica           3.3      3\n",
      "40   virginica           3.4      2\n",
      "41   virginica           3.6      1\n",
      "42   virginica           3.8      2\n"
     ]
    }
   ],
   "source": [
    "\n",
    "# 5. How does a particular categorical variable vary across different regions?\n",
    "categorical_variation = master_df.groupby(['Species', 'SepalWidthCm']).size().reset_index(name='count')\n",
    "print(categorical_variation)\n"
   ]
  },
  {
   "cell_type": "code",
   "execution_count": 12,
   "metadata": {
    "id": "PPv6zKzY6yhl"
   },
   "outputs": [
    {
     "name": "stdout",
     "output_type": "stream",
     "text": [
      "Average measurements for each species:\n",
      "             SepalLengthCm  SepalWidthCm  PetalLengthCm  PetalWidthCm\n",
      "Species                                                             \n",
      "setosa           5.016393      3.422951       1.472131      0.263934\n",
      "versicolor       5.950980      2.774510       4.274510      1.333333\n",
      "virginica        6.570000      2.970000       5.540000      2.022000\n"
     ]
    }
   ],
   "source": [
    "# 6 What is the average sepal length, sepal width, petal length, and petal width for each species?\n",
    "average_measurements = master_df.groupby('Species').mean()\n",
    "print(\"Average measurements for each species:\\n\", average_measurements)\n"
   ]
  },
  {
   "cell_type": "code",
   "execution_count": 13,
   "metadata": {
    "id": "1mT_i3446yeW"
   },
   "outputs": [
    {
     "name": "stdout",
     "output_type": "stream",
     "text": [
      "Outliers:\n",
      " Empty DataFrame\n",
      "Columns: [SepalLengthCm, SepalWidthCm, PetalLengthCm, PetalWidthCm, Species]\n",
      "Index: []\n"
     ]
    }
   ],
   "source": [
    "# 7. Are there any outliers in the data? If yes, how can they be handled?\n",
    "# Detect outliers using z-score method\n",
    "from scipy.stats import zscore\n",
    "\n",
    "z_scores = zscore(master_df[['SepalLengthCm', 'SepalWidthCm', 'PetalLengthCm', 'PetalWidthCm']])\n",
    "outliers = master_df[(z_scores > 3).any(axis=1)]\n",
    "print(\"Outliers:\\n\", outliers)"
   ]
  },
  {
   "cell_type": "code",
   "execution_count": 14,
   "metadata": {
    "id": "hgsPNVxR6yc9"
   },
   "outputs": [
    {
     "name": "stdout",
     "output_type": "stream",
     "text": [
      "Sample counts for each species:\n",
      " setosa        61\n",
      "versicolor    51\n",
      "virginica     50\n",
      "Name: Species, dtype: int64\n"
     ]
    }
   ],
   "source": [
    "# 8. How many samples are there for each species?\n",
    "sample_counts = master_df['Species'].value_counts()\n",
    "print(\"Sample counts for each species:\\n\", sample_counts)"
   ]
  },
  {
   "cell_type": "code",
   "execution_count": 15,
   "metadata": {
    "id": "NV31WPVn6yRI"
   },
   "outputs": [
    {
     "name": "stdout",
     "output_type": "stream",
     "text": [
      "Correlation matrix:\n",
      "                SepalLengthCm  SepalWidthCm  PetalLengthCm  PetalWidthCm\n",
      "SepalLengthCm       1.000000     -0.125695       0.870502      0.817871\n",
      "SepalWidthCm       -0.125695      1.000000      -0.442767     -0.386946\n",
      "PetalLengthCm       0.870502     -0.442767       1.000000      0.964860\n",
      "PetalWidthCm        0.817871     -0.386946       0.964860      1.000000\n"
     ]
    }
   ],
   "source": [
    "# 9. Is there any correlation between sepal length, sepal width, petal length, and petal width?\n",
    "correlation_matrix = master_df[['SepalLengthCm', 'SepalWidthCm', 'PetalLengthCm', 'PetalWidthCm']].corr()\n",
    "print(\"Correlation matrix:\\n\", correlation_matrix)"
   ]
  },
  {
   "cell_type": "code",
   "execution_count": 16,
   "metadata": {
    "id": "7wxIx5O97vWo"
   },
   "outputs": [
    {
     "name": "stdout",
     "output_type": "stream",
     "text": [
      "Species found the maximum number of times: setosa\n"
     ]
    }
   ],
   "source": [
    "#10.Which species is classified maximum number of times\n",
    "species_counts = master_df['Species'].value_counts()\n",
    "\n",
    "# Find the species with the maximum count\n",
    "max_species = species_counts.idxmax()\n",
    "\n",
    "print(\"Species found the maximum number of times:\", max_species)"
   ]
  },
  {
   "cell_type": "code",
   "execution_count": 17,
   "metadata": {
    "id": "xGqJZOUK9EDH"
   },
   "outputs": [
    {
     "name": "stdout",
     "output_type": "stream",
     "text": [
      "Requirement already satisfied: dash in c:\\users\\dell\\anaconda3\\lib\\site-packages (2.15.0)"
     ]
    },
    {
     "name": "stderr",
     "output_type": "stream",
     "text": [
      "WARNING: Ignoring invalid distribution -rotobuf (c:\\users\\dell\\anaconda3\\lib\\site-packages)\n",
      "WARNING: Ignoring invalid distribution -rotobuf (c:\\users\\dell\\anaconda3\\lib\\site-packages)\n",
      "WARNING: Ignoring invalid distribution -rotobuf (c:\\users\\dell\\anaconda3\\lib\\site-packages)\n",
      "WARNING: Ignoring invalid distribution -rotobuf (c:\\users\\dell\\anaconda3\\lib\\site-packages)\n",
      "WARNING: Ignoring invalid distribution -rotobuf (c:\\users\\dell\\anaconda3\\lib\\site-packages)\n",
      "WARNING: Ignoring invalid distribution -rotobuf (c:\\users\\dell\\anaconda3\\lib\\site-packages)\n"
     ]
    },
    {
     "name": "stdout",
     "output_type": "stream",
     "text": [
      "\n",
      "Requirement already satisfied: requests in c:\\users\\dell\\anaconda3\\lib\\site-packages (from dash) (2.28.1)\n",
      "Requirement already satisfied: Flask<3.1,>=1.0.4 in c:\\users\\dell\\anaconda3\\lib\\site-packages (from dash) (1.1.2)\n",
      "Requirement already satisfied: nest-asyncio in c:\\users\\dell\\anaconda3\\lib\\site-packages (from dash) (1.5.5)\n",
      "Requirement already satisfied: plotly>=5.0.0 in c:\\users\\dell\\anaconda3\\lib\\site-packages (from dash) (5.9.0)\n",
      "Requirement already satisfied: importlib-metadata in c:\\users\\dell\\anaconda3\\lib\\site-packages (from dash) (4.11.3)\n",
      "Requirement already satisfied: dash-table==5.0.0 in c:\\users\\dell\\anaconda3\\lib\\site-packages (from dash) (5.0.0)\n",
      "Requirement already satisfied: typing-extensions>=4.1.1 in c:\\users\\dell\\anaconda3\\lib\\site-packages (from dash) (4.3.0)\n",
      "Requirement already satisfied: dash-core-components==2.0.0 in c:\\users\\dell\\anaconda3\\lib\\site-packages (from dash) (2.0.0)\n",
      "Requirement already satisfied: retrying in c:\\users\\dell\\anaconda3\\lib\\site-packages (from dash) (1.3.4)\n",
      "Requirement already satisfied: Werkzeug<3.1 in c:\\users\\dell\\anaconda3\\lib\\site-packages (from dash) (2.0.3)\n",
      "Requirement already satisfied: dash-html-components==2.0.0 in c:\\users\\dell\\anaconda3\\lib\\site-packages (from dash) (2.0.0)\n",
      "Requirement already satisfied: setuptools in c:\\users\\dell\\anaconda3\\lib\\site-packages (from dash) (63.4.1)\n",
      "Requirement already satisfied: click>=5.1 in c:\\users\\dell\\anaconda3\\lib\\site-packages (from Flask<3.1,>=1.0.4->dash) (8.0.4)\n",
      "Requirement already satisfied: itsdangerous>=0.24 in c:\\users\\dell\\anaconda3\\lib\\site-packages (from Flask<3.1,>=1.0.4->dash) (2.0.1)\n",
      "Requirement already satisfied: Jinja2>=2.10.1 in c:\\users\\dell\\anaconda3\\lib\\site-packages (from Flask<3.1,>=1.0.4->dash) (2.11.3)\n",
      "Requirement already satisfied: tenacity>=6.2.0 in c:\\users\\dell\\anaconda3\\lib\\site-packages (from plotly>=5.0.0->dash) (8.0.1)\n",
      "Requirement already satisfied: zipp>=0.5 in c:\\users\\dell\\anaconda3\\lib\\site-packages (from importlib-metadata->dash) (3.8.0)\n",
      "Requirement already satisfied: charset-normalizer<3,>=2 in c:\\users\\dell\\anaconda3\\lib\\site-packages (from requests->dash) (2.0.4)\n",
      "Requirement already satisfied: idna<4,>=2.5 in c:\\users\\dell\\anaconda3\\lib\\site-packages (from requests->dash) (3.3)\n",
      "Requirement already satisfied: certifi>=2017.4.17 in c:\\users\\dell\\anaconda3\\lib\\site-packages (from requests->dash) (2022.9.14)\n",
      "Requirement already satisfied: urllib3<1.27,>=1.21.1 in c:\\users\\dell\\anaconda3\\lib\\site-packages (from requests->dash) (1.26.11)\n",
      "Requirement already satisfied: six>=1.7.0 in c:\\users\\dell\\anaconda3\\lib\\site-packages (from retrying->dash) (1.16.0)\n",
      "Requirement already satisfied: colorama in c:\\users\\dell\\anaconda3\\lib\\site-packages (from click>=5.1->Flask<3.1,>=1.0.4->dash) (0.4.5)\n",
      "Requirement already satisfied: MarkupSafe>=0.23 in c:\\users\\dell\\anaconda3\\lib\\site-packages (from Jinja2>=2.10.1->Flask<3.1,>=1.0.4->dash) (2.0.1)\n"
     ]
    }
   ],
   "source": [
    "!pip install dash"
   ]
  },
  {
   "cell_type": "code",
   "execution_count": null,
   "metadata": {
    "id": "4_tHIMdDACUH"
   },
   "outputs": [],
   "source": []
  },
  {
   "cell_type": "code",
   "execution_count": 18,
   "metadata": {},
   "outputs": [
    {
     "data": {
      "text/html": [
       "\n",
       "        <iframe\n",
       "            width=\"100%\"\n",
       "            height=\"650\"\n",
       "            src=\"http://127.0.0.1:8053/\"\n",
       "            frameborder=\"0\"\n",
       "            allowfullscreen\n",
       "            \n",
       "        ></iframe>\n",
       "        "
      ],
      "text/plain": [
       "<IPython.lib.display.IFrame at 0x1ad93b99b50>"
      ]
     },
     "metadata": {},
     "output_type": "display_data"
    }
   ],
   "source": [
    "import dash\n",
    "from dash import dcc, html, Input, Output\n",
    "import pandas as pd\n",
    "import plotly.express as px\n",
    "\n",
    "# Read CSV files\n",
    "df_csv1 = pd.read_csv('Iris.csv')\n",
    "\n",
    "# Read JSON files\n",
    "df_json1 = pd.read_json('iris.json')\n",
    "\n",
    "# Rename columns to match\n",
    "df_json1.rename(columns={'sepalLength': 'SepalLengthCm', 'sepalWidth': 'SepalWidthCm','petalLength': 'PetalLengthCm','petalWidth': 'PetalWidthCm','species': 'Species'}, inplace=True)\n",
    "\n",
    "\n",
    "# Rename values in the 'Species' column\n",
    "df_csv1['Species'] = df_csv1['Species'].replace({\n",
    "    'Iris-setosa': 'setosa',\n",
    "    'Iris-virginica': 'virginica',\n",
    "    'Iris-versicolor': 'versicolor'\n",
    "})\n",
    "\n",
    "\n",
    "# Concatenate datasets\n",
    "master_df = pd.concat([df_csv1, df_json1], ignore_index=True)\n",
    "\n",
    "# Initialize the Dash app\n",
    "app = dash.Dash(__name__)\n",
    "\n",
    "# Define CSS styles\n",
    "styles = {\n",
    "    'textAlign': 'center',  # Center-align text\n",
    "    'backgroundColor': '#f9f9f9',  # Set background color\n",
    "    'padding': '20px'  # Add padding\n",
    "}\n",
    "\n",
    "# Define the layout of the app\n",
    "app.layout = html.Div(style=styles, children=[\n",
    "    html.H1('Iris Dataset Analysis', style={'color': '#333333'}),  # Change text color of title\n",
    "    \n",
    "    # Average Measurements\n",
    "    html.Div([\n",
    "        html.H2('Average Measurements for Each Species'),\n",
    "        dcc.Graph(\n",
    "            id='avg-measurements',\n",
    "            figure=px.bar(master_df.groupby('Species').mean().reset_index(), x='Species', y=['SepalLengthCm', 'SepalWidthCm', 'PetalLengthCm', 'PetalWidthCm'], barmode='group', title='Average Measurements for Each Species')\n",
    "        )\n",
    "    ], style={'width': '49%', 'display': 'inline-block'}),\n",
    "    \n",
    "    # Distribution\n",
    "    html.Div([\n",
    "        html.H2('Distribution of Sepal Length Across Species'),\n",
    "        dcc.Graph(\n",
    "            id='sepal-length-dist',\n",
    "            figure=px.violin(master_df, x='Species', y='SepalLengthCm', box=True, title='Distribution of Sepal Length Across Species')\n",
    "        )\n",
    "    ], style={'width': '49%', 'display': 'inline-block'}),\n",
    "    \n",
    "    html.Div([\n",
    "        html.H2('Distribution of Sepal Width Across Species'),\n",
    "        dcc.Graph(\n",
    "            id='sepal-width-dist',\n",
    "            figure=px.box(master_df, x='Species', y='SepalWidthCm', points='all', title='Distribution of Sepal Width Across Species')\n",
    "        )\n",
    "    ], style={'width': '49%', 'display': 'inline-block'}),\n",
    "    \n",
    "    html.Div([\n",
    "        html.H2('Distribution of Petal Length Across Species'),\n",
    "        dcc.Graph(\n",
    "            id='petal-length-dist',\n",
    "            figure=px.histogram(master_df, x='PetalLengthCm', color='Species', marginal='rug', title='Distribution of Petal Length Across Species')\n",
    "        )\n",
    "    ], style={'width': '49%', 'display': 'inline-block'}),\n",
    "    \n",
    "    # Relationships\n",
    "    html.Div([\n",
    "        html.H2('Sepal Length vs Sepal Width by Species'),\n",
    "        dcc.Graph(\n",
    "            id='sepal-length-width',\n",
    "            figure=px.scatter(master_df, x='SepalLengthCm', y='SepalWidthCm', color='Species', title='Sepal Length vs Sepal Width by Species')\n",
    "        )\n",
    "    ], style={'width': '49%', 'display': 'inline-block'}),\n",
    "    \n",
    "    html.Div([\n",
    "        html.H2('Petal Length vs Petal Width by Species'),\n",
    "        dcc.Graph(\n",
    "            id='petal-length-width',\n",
    "            figure=px.scatter(master_df, x='PetalLengthCm', y='PetalWidthCm', color='Species', title='Petal Length vs Petal Width by Species')\n",
    "        )\n",
    "    ], style={'width': '49%', 'display': 'inline-block'}),\n",
    "    \n",
    "    # Pie Chart\n",
    "    html.Div([\n",
    "        html.H2('Pie Chart of Species Distribution'),\n",
    "        dcc.Graph(\n",
    "            id='species-pie-chart',\n",
    "            figure=px.pie(master_df, names='Species', title='Species Distribution')\n",
    "        )\n",
    "    ])\n",
    "])\n",
    "\n",
    "if __name__ == '__main__':\n",
    "    app.run_server(debug=True, port=8053)\n"
   ]
  },
  {
   "cell_type": "code",
   "execution_count": 19,
   "metadata": {
    "id": "9bn4duCgAThf"
   },
   "outputs": [
    {
     "data": {
      "text/html": [
       "\n",
       "        <iframe\n",
       "            width=\"100%\"\n",
       "            height=\"650\"\n",
       "            src=\"http://127.0.0.1:8055/\"\n",
       "            frameborder=\"0\"\n",
       "            allowfullscreen\n",
       "            \n",
       "        ></iframe>\n",
       "        "
      ],
      "text/plain": [
       "<IPython.lib.display.IFrame at 0x1ad93ce5eb0>"
      ]
     },
     "metadata": {},
     "output_type": "display_data"
    }
   ],
   "source": [
    "\n",
    "# Initialize the Dash app\n",
    "app = dash.Dash(__name__)\n",
    "# Define the layout of the app\n",
    "app.layout = html.Div([\n",
    "    dcc.Tabs([\n",
    "        dcc.Tab(label='Average Measurements', children=[\n",
    "            html.Div([\n",
    "                html.H2(\"Average Measurements for Each Species\"),\n",
    "                dcc.Graph(\n",
    "                    id='avg-measurements',\n",
    "                    figure=px.bar(master_df.groupby('Species').mean().reset_index(), x='Species', y=['SepalLengthCm', 'SepalWidthCm', 'PetalLengthCm', 'PetalWidthCm'], barmode='group', title=\"Average Measurements for Each Species\")\n",
    "                )\n",
    "            ])\n",
    "        ]),\n",
    "        dcc.Tab(label='Distribution', children=[\n",
    "            html.Div([\n",
    "                html.H2(\"Distribution of Sepal Length Across Species\"),\n",
    "                dcc.Graph(\n",
    "                    id='sepal-length-dist',\n",
    "                    figure=px.violin(master_df, x='Species', y='SepalLengthCm', box=True, title=\"Distribution of Sepal Length Across Species\")\n",
    "                )\n",
    "            ]),\n",
    "            html.Div([\n",
    "                html.H2(\"Distribution of Sepal Width Across Species\"),\n",
    "                dcc.Graph(\n",
    "                    id='sepal-width-dist',\n",
    "                    figure=px.box(master_df, x='Species', y='SepalWidthCm', points='all', title=\"Distribution of Sepal Width Across Species\")\n",
    "                )\n",
    "            ]),\n",
    "            html.Div([\n",
    "                html.H2(\"Distribution of Petal Length Across Species\"),\n",
    "                dcc.Graph(\n",
    "                    id='petal-length-dist',\n",
    "                    figure=px.histogram(master_df, x='PetalLengthCm', color='Species', marginal='rug', title=\"Distribution of Petal Length Across Species\")\n",
    "                )\n",
    "            ])\n",
    "        ]),\n",
    "        dcc.Tab(label='Relationships', children=[\n",
    "            html.Div([\n",
    "                html.H2(\"Sepal Length vs Sepal Width by Species\"),\n",
    "                dcc.Graph(\n",
    "                    id='sepal-length-width',\n",
    "                    figure=px.scatter(master_df, x='SepalLengthCm', y='SepalWidthCm', color='Species', title=\"Sepal Length vs Sepal Width by Species\")\n",
    "                )\n",
    "            ]),\n",
    "            html.Div([\n",
    "                html.H2(\"Petal Length vs Petal Width by Species\"),\n",
    "                dcc.Graph(\n",
    "                    id='petal-length-width',\n",
    "                    figure=px.scatter(master_df, x='PetalLengthCm', y='PetalWidthCm', color='Species', title=\"Petal Length vs Petal Width by Species\")\n",
    "                )\n",
    "            ])\n",
    "        ])\n",
    "    ])\n",
    "])\n",
    "\n",
    "if __name__ == '__main__':\n",
    "    app.run_server(debug=True,port=8055)"
   ]
  },
  {
   "cell_type": "code",
   "execution_count": null,
   "metadata": {},
   "outputs": [],
   "source": []
  },
  {
   "cell_type": "code",
   "execution_count": null,
   "metadata": {},
   "outputs": [],
   "source": []
  }
 ],
 "metadata": {
  "colab": {
   "private_outputs": true,
   "provenance": []
  },
  "kernelspec": {
   "display_name": "Python 3 (ipykernel)",
   "language": "python",
   "name": "python3"
  },
  "language_info": {
   "codemirror_mode": {
    "name": "ipython",
    "version": 3
   },
   "file_extension": ".py",
   "mimetype": "text/x-python",
   "name": "python",
   "nbconvert_exporter": "python",
   "pygments_lexer": "ipython3",
   "version": "3.9.13"
  }
 },
 "nbformat": 4,
 "nbformat_minor": 1
}
